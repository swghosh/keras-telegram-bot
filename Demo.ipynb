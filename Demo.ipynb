{
 "cells": [
  {
   "cell_type": "code",
   "execution_count": 1,
   "metadata": {},
   "outputs": [],
   "source": [
    "from keras_telegram_bot import KerasTelegramBot\n",
    "import tensorflow as tf"
   ]
  },
  {
   "cell_type": "code",
   "execution_count": 2,
   "metadata": {},
   "outputs": [
    {
     "name": "stdout",
     "output_type": "stream",
     "text": [
      "Model: \"sequential\"\n",
      "_________________________________________________________________\n",
      "Layer (type)                 Output Shape              Param #   \n",
      "=================================================================\n",
      "dense (Dense)                (None, 1)                 11        \n",
      "=================================================================\n",
      "Total params: 11\n",
      "Trainable params: 11\n",
      "Non-trainable params: 0\n",
      "_________________________________________________________________\n"
     ]
    }
   ],
   "source": [
    "model = tf.keras.Sequential([\n",
    "    tf.keras.layers.Dense(1, input_shape=[10])\n",
    "])\n",
    "model.summary()"
   ]
  },
  {
   "cell_type": "code",
   "execution_count": 3,
   "metadata": {},
   "outputs": [],
   "source": [
    "model.compile('adam', 'binary_crossentropy', metrics=['accuracy'])"
   ]
  },
  {
   "cell_type": "code",
   "execution_count": 4,
   "metadata": {},
   "outputs": [],
   "source": [
    "x = tf.random.normal([100, 10])\n",
    "y = tf.random.uniform([100], 0, 2, dtype=tf.int32)"
   ]
  },
  {
   "cell_type": "code",
   "execution_count": 5,
   "metadata": {},
   "outputs": [],
   "source": [
    "ds = tf.data.Dataset.from_tensor_slices((x, y))\n",
    "ds = ds.repeat(5)\n",
    "ds = ds.batch(10)"
   ]
  },
  {
   "cell_type": "code",
   "execution_count": 6,
   "metadata": {},
   "outputs": [],
   "source": [
    "token = '716835509:AAEmFxq5swgw0g0Fq-QtSgvuT0iW84I1Iec'\n",
    "chat_id = 697507953"
   ]
  },
  {
   "cell_type": "code",
   "execution_count": 7,
   "metadata": {},
   "outputs": [],
   "source": [
    "callbacks = [KerasTelegramBot(token, chat_id)]"
   ]
  },
  {
   "cell_type": "code",
   "execution_count": 8,
   "metadata": {
    "scrolled": false
   },
   "outputs": [
    {
     "name": "stdout",
     "output_type": "stream",
     "text": [
      "Epoch 1/50\n",
      "50/50 [==============================] - 1s 21ms/step - loss: 6.2202 - accuracy: 0.4300 - val_loss: 6.2063 - val_accuracy: 0.4400\n",
      "Epoch 2/50\n",
      "50/50 [==============================] - 0s 9ms/step - loss: 6.2010 - accuracy: 0.4400 - val_loss: 6.1952 - val_accuracy: 0.4400\n",
      "Epoch 3/50\n",
      "50/50 [==============================] - 1s 10ms/step - loss: 6.1914 - accuracy: 0.4400 - val_loss: 6.1868 - val_accuracy: 0.4400\n",
      "Epoch 4/50\n",
      "50/50 [==============================] - 1s 10ms/step - loss: 6.1838 - accuracy: 0.4500 - val_loss: 6.1799 - val_accuracy: 0.4500\n",
      "Epoch 5/50\n",
      "50/50 [==============================] - 1s 14ms/step - loss: 6.1774 - accuracy: 0.4500 - val_loss: 6.1740 - val_accuracy: 0.4500\n",
      "Epoch 6/50\n",
      "50/50 [==============================] - 0s 9ms/step - loss: 6.1091 - accuracy: 0.4500 - val_loss: 5.9073 - val_accuracy: 0.4500\n",
      "Epoch 7/50\n",
      "50/50 [==============================] - 0s 10ms/step - loss: 5.7844 - accuracy: 0.4400 - val_loss: 5.6434 - val_accuracy: 0.4400\n",
      "Epoch 8/50\n",
      "50/50 [==============================] - 0s 9ms/step - loss: 5.6365 - accuracy: 0.4400 - val_loss: 5.6327 - val_accuracy: 0.4400\n",
      "Epoch 9/50\n",
      "50/50 [==============================] - 0s 9ms/step - loss: 5.6301 - accuracy: 0.4400 - val_loss: 5.6274 - val_accuracy: 0.4400\n",
      "Epoch 10/50\n",
      "50/50 [==============================] - 0s 9ms/step - loss: 5.6253 - accuracy: 0.4400 - val_loss: 5.6229 - val_accuracy: 0.4400\n",
      "Epoch 11/50\n",
      "50/50 [==============================] - 1s 11ms/step - loss: 5.6210 - accuracy: 0.4400 - val_loss: 5.6188 - val_accuracy: 0.4400\n",
      "Epoch 12/50\n",
      "50/50 [==============================] - 0s 9ms/step - loss: 5.6171 - accuracy: 0.4400 - val_loss: 5.6150 - val_accuracy: 0.4400\n",
      "Epoch 13/50\n",
      "50/50 [==============================] - 0s 9ms/step - loss: 5.6135 - accuracy: 0.4400 - val_loss: 5.6116 - val_accuracy: 0.4400\n",
      "Epoch 14/50\n",
      "50/50 [==============================] - 0s 9ms/step - loss: 5.6102 - accuracy: 0.4340 - val_loss: 5.6083 - val_accuracy: 0.4300\n",
      "Epoch 15/50\n",
      "50/50 [==============================] - 0s 9ms/step - loss: 5.6070 - accuracy: 0.4300 - val_loss: 5.6053 - val_accuracy: 0.4300\n",
      "Epoch 16/50\n",
      "50/50 [==============================] - 0s 9ms/step - loss: 5.6041 - accuracy: 0.4300 - val_loss: 5.6024 - val_accuracy: 0.4300\n",
      "Epoch 17/50\n",
      "50/50 [==============================] - 0s 9ms/step - loss: 5.6013 - accuracy: 0.4300 - val_loss: 5.5997 - val_accuracy: 0.4300\n",
      "Epoch 18/50\n",
      "50/50 [==============================] - 0s 9ms/step - loss: 5.5986 - accuracy: 0.4300 - val_loss: 5.5971 - val_accuracy: 0.4300\n",
      "Epoch 19/50\n",
      "50/50 [==============================] - 0s 9ms/step - loss: 5.5961 - accuracy: 0.4300 - val_loss: 5.5947 - val_accuracy: 0.4300\n",
      "Epoch 20/50\n",
      "50/50 [==============================] - 0s 9ms/step - loss: 5.5937 - accuracy: 0.4300 - val_loss: 5.5923 - val_accuracy: 0.4300\n",
      "Epoch 21/50\n",
      "50/50 [==============================] - 1s 12ms/step - loss: 5.5914 - accuracy: 0.4300 - val_loss: 5.5901 - val_accuracy: 0.4300\n",
      "Epoch 22/50\n",
      "50/50 [==============================] - 0s 9ms/step - loss: 5.5203 - accuracy: 0.4340 - val_loss: 5.4614 - val_accuracy: 0.4400\n",
      "Epoch 23/50\n",
      "50/50 [==============================] - 0s 9ms/step - loss: 5.4595 - accuracy: 0.4400 - val_loss: 5.4566 - val_accuracy: 0.4400\n",
      "Epoch 24/50\n",
      "50/50 [==============================] - 0s 9ms/step - loss: 5.4549 - accuracy: 0.4400 - val_loss: 5.4529 - val_accuracy: 0.4400\n",
      "Epoch 25/50\n",
      "50/50 [==============================] - 0s 9ms/step - loss: 5.4517 - accuracy: 0.4400 - val_loss: 5.4502 - val_accuracy: 0.4400\n",
      "Epoch 26/50\n",
      "50/50 [==============================] - 0s 10ms/step - loss: 5.4493 - accuracy: 0.4360 - val_loss: 5.4479 - val_accuracy: 0.4300\n",
      "Epoch 27/50\n",
      "50/50 [==============================] - 0s 9ms/step - loss: 5.4471 - accuracy: 0.4300 - val_loss: 5.4459 - val_accuracy: 0.4300\n",
      "Epoch 28/50\n",
      "50/50 [==============================] - 1s 11ms/step - loss: 5.4452 - accuracy: 0.4220 - val_loss: 5.4440 - val_accuracy: 0.4200\n",
      "Epoch 29/50\n",
      "50/50 [==============================] - 0s 9ms/step - loss: 5.4433 - accuracy: 0.4260 - val_loss: 5.4422 - val_accuracy: 0.4300\n",
      "Epoch 30/50\n",
      "50/50 [==============================] - 0s 9ms/step - loss: 5.4416 - accuracy: 0.4300 - val_loss: 5.4405 - val_accuracy: 0.4300\n",
      "Epoch 31/50\n",
      "50/50 [==============================] - 1s 11ms/step - loss: 5.4399 - accuracy: 0.4300 - val_loss: 5.4388 - val_accuracy: 0.4300\n",
      "Epoch 32/50\n",
      "50/50 [==============================] - 0s 9ms/step - loss: 5.4383 - accuracy: 0.4300 - val_loss: 5.4372 - val_accuracy: 0.4300\n",
      "Epoch 33/50\n",
      "50/50 [==============================] - 1s 11ms/step - loss: 5.4367 - accuracy: 0.4340 - val_loss: 5.4357 - val_accuracy: 0.4400\n",
      "Epoch 34/50\n",
      "50/50 [==============================] - 0s 9ms/step - loss: 5.4352 - accuracy: 0.4400 - val_loss: 5.4342 - val_accuracy: 0.4400\n",
      "Epoch 35/50\n",
      "50/50 [==============================] - 0s 9ms/step - loss: 5.4337 - accuracy: 0.4480 - val_loss: 5.4327 - val_accuracy: 0.4500\n",
      "Epoch 36/50\n",
      "50/50 [==============================] - 0s 9ms/step - loss: 5.4322 - accuracy: 0.4500 - val_loss: 5.4313 - val_accuracy: 0.4500\n",
      "Epoch 37/50\n",
      "50/50 [==============================] - 0s 10ms/step - loss: 5.4308 - accuracy: 0.4500 - val_loss: 5.4299 - val_accuracy: 0.4500\n",
      "Epoch 38/50\n",
      "50/50 [==============================] - 1s 10ms/step - loss: 5.4294 - accuracy: 0.4500 - val_loss: 5.4285 - val_accuracy: 0.4500\n",
      "Epoch 39/50\n",
      "50/50 [==============================] - 0s 9ms/step - loss: 5.4281 - accuracy: 0.4500 - val_loss: 5.4272 - val_accuracy: 0.4500\n",
      "Epoch 40/50\n",
      "50/50 [==============================] - 0s 9ms/step - loss: 5.4268 - accuracy: 0.4500 - val_loss: 5.4259 - val_accuracy: 0.4500\n",
      "Epoch 41/50\n",
      "50/50 [==============================] - 1s 11ms/step - loss: 5.4255 - accuracy: 0.4500 - val_loss: 5.4247 - val_accuracy: 0.4500\n",
      "Epoch 42/50\n",
      "50/50 [==============================] - 0s 9ms/step - loss: 5.4243 - accuracy: 0.4500 - val_loss: 5.4234 - val_accuracy: 0.4500\n",
      "Epoch 43/50\n",
      "50/50 [==============================] - 0s 9ms/step - loss: 5.2614 - accuracy: 0.4540 - val_loss: 5.0355 - val_accuracy: 0.4700\n",
      "Epoch 44/50\n",
      "50/50 [==============================] - 0s 9ms/step - loss: 5.0331 - accuracy: 0.4700 - val_loss: 5.0328 - val_accuracy: 0.4700\n",
      "Epoch 45/50\n",
      "50/50 [==============================] - 0s 10ms/step - loss: 5.0324 - accuracy: 0.4700 - val_loss: 5.0320 - val_accuracy: 0.4700\n",
      "Epoch 46/50\n",
      "50/50 [==============================] - 1s 10ms/step - loss: 5.0316 - accuracy: 0.4700 - val_loss: 5.0311 - val_accuracy: 0.4700\n",
      "Epoch 47/50\n",
      "50/50 [==============================] - 1s 10ms/step - loss: 5.0308 - accuracy: 0.4700 - val_loss: 5.0303 - val_accuracy: 0.4700\n",
      "Epoch 48/50\n",
      "50/50 [==============================] - 0s 10ms/step - loss: 5.0300 - accuracy: 0.4700 - val_loss: 5.0296 - val_accuracy: 0.4700\n",
      "Epoch 49/50\n",
      "50/50 [==============================] - 0s 9ms/step - loss: 5.0292 - accuracy: 0.4700 - val_loss: 5.0288 - val_accuracy: 0.4700\n",
      "Epoch 50/50\n",
      "50/50 [==============================] - 0s 9ms/step - loss: 5.0285 - accuracy: 0.4700 - val_loss: 5.0281 - val_accuracy: 0.4700\n"
     ]
    },
    {
     "data": {
      "text/plain": [
       "<tensorflow.python.keras.callbacks.History at 0x137bd3390>"
      ]
     },
     "execution_count": 8,
     "metadata": {},
     "output_type": "execute_result"
    }
   ],
   "source": [
    "model.fit(ds, validation_data=ds, epochs=50, callbacks=callbacks)"
   ]
  },
  {
   "cell_type": "code",
   "execution_count": null,
   "metadata": {},
   "outputs": [],
   "source": []
  }
 ],
 "metadata": {
  "kernelspec": {
   "display_name": "Python 3",
   "language": "python",
   "name": "python3"
  },
  "language_info": {
   "codemirror_mode": {
    "name": "ipython",
    "version": 3
   },
   "file_extension": ".py",
   "mimetype": "text/x-python",
   "name": "python",
   "nbconvert_exporter": "python",
   "pygments_lexer": "ipython3",
   "version": "3.7.7"
  }
 },
 "nbformat": 4,
 "nbformat_minor": 4
}
